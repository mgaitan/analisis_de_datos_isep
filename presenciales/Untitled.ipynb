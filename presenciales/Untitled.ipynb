{
 "cells": [
  {
   "cell_type": "markdown",
   "metadata": {
    "slideshow": {
     "slide_type": "slide"
    }
   },
   "source": [
    "# Introducción al análisis de datos"
   ]
  },
  {
   "cell_type": "markdown",
   "metadata": {
    "slideshow": {
     "slide_type": "slide"
    }
   },
   "source": [
    "## Presentación\n"
   ]
  },
  {
   "cell_type": "markdown",
   "metadata": {
    "collapsed": true,
    "slideshow": {
     "slide_type": "fragment"
    }
   },
   "source": [
    "- Me llamo **Martín Gaitán**, soy **ingeniero en computación** "
   ]
  },
  {
   "cell_type": "markdown",
   "metadata": {
    "slideshow": {
     "slide_type": "fragment"
    }
   },
   "source": [
    "- También soy docente del ITSC Sede Villa del Libertador"
   ]
  },
  {
   "cell_type": "markdown",
   "metadata": {
    "slideshow": {
     "slide_type": "fragment"
    }
   },
   "source": [
    "- Y tengo una hija que se llama Ema, \n",
    "con la que **me gusta ir a la plaza**"
   ]
  },
  {
   "cell_type": "markdown",
   "metadata": {
    "slideshow": {
     "slide_type": "subslide"
    }
   },
   "source": [
    "<video class=\"text-center\" src=\"files/hamaca.mp4\" controls style=\"max-width:30%; height:auto; position: relative;\n",
    "  left: 50%; transform: translateX(-50%);\"></video>"
   ]
  },
  {
   "cell_type": "markdown",
   "metadata": {
    "slideshow": {
     "slide_type": "slide"
    }
   },
   "source": [
    "## La idea de esta clase \n",
    "\n",
    "- Repasar Hoja de Calculo / Formularios\n",
    "- Formato CSV\n",
    "- Aprender Jupyter\n",
    "- Markdown\n",
    "- Poquito Pandas"
   ]
  },
  {
   "cell_type": "markdown",
   "metadata": {
    "slideshow": {
     "slide_type": "subslide"
    }
   },
   "source": [
    "### y obtención de datos de fuentes no estructuradas"
   ]
  },
  {
   "cell_type": "markdown",
   "metadata": {
    "slideshow": {
     "slide_type": "slide"
    }
   },
   "source": [
    "## Quiero saber algo de ustedes\n",
    "\n",
    "Por ejemplo, **¿Cómo les fue con la clase 1?**\n",
    "\n"
   ]
  },
  {
   "cell_type": "code",
   "execution_count": null,
   "metadata": {
    "collapsed": true
   },
   "outputs": [],
   "source": [
    "  "
   ]
  },
  {
   "cell_type": "markdown",
   "metadata": {
    "slideshow": {
     "slide_type": "fragment"
    }
   },
   "source": [
    "y qué les gusta más en la plaza\n",
    "\n",
    "\n",
    "[bitly.com/placitapapi](http://bitly.con/placitapapi)\n"
   ]
  },
  {
   "cell_type": "code",
   "execution_count": null,
   "metadata": {
    "collapsed": true
   },
   "outputs": [],
   "source": []
  },
  {
   "cell_type": "code",
   "execution_count": 6,
   "metadata": {
    "collapsed": true
   },
   "outputs": [],
   "source": [
    "%matplotlib inline"
   ]
  },
  {
   "cell_type": "code",
   "execution_count": 14,
   "metadata": {},
   "outputs": [
    {
     "data": {
      "text/html": [
       "<div>\n",
       "<style>\n",
       "    .dataframe thead tr:only-child th {\n",
       "        text-align: right;\n",
       "    }\n",
       "\n",
       "    .dataframe thead th {\n",
       "        text-align: left;\n",
       "    }\n",
       "\n",
       "    .dataframe tbody tr th {\n",
       "        vertical-align: top;\n",
       "    }\n",
       "</style>\n",
       "<table border=\"1\" class=\"dataframe\">\n",
       "  <thead>\n",
       "    <tr style=\"text-align: right;\">\n",
       "      <th></th>\n",
       "      <th>edad</th>\n",
       "      <th>opcion</th>\n",
       "    </tr>\n",
       "  </thead>\n",
       "  <tbody>\n",
       "    <tr>\n",
       "      <th>0</th>\n",
       "      <td>66</td>\n",
       "      <td>A</td>\n",
       "    </tr>\n",
       "    <tr>\n",
       "      <th>1</th>\n",
       "      <td>19</td>\n",
       "      <td>B</td>\n",
       "    </tr>\n",
       "    <tr>\n",
       "      <th>2</th>\n",
       "      <td>22</td>\n",
       "      <td>A</td>\n",
       "    </tr>\n",
       "  </tbody>\n",
       "</table>\n",
       "</div>"
      ],
      "text/plain": [
       "   edad opcion\n",
       "0    66      A\n",
       "1    19      B\n",
       "2    22      A"
      ]
     },
     "execution_count": 14,
     "metadata": {},
     "output_type": "execute_result"
    }
   ],
   "source": [
    "import pandas as pd \n",
    "\n",
    "d = pd.DataFrame({'edad': [66, 19, 22], 'opcion': ['A', 'B', 'A']})\n",
    "d"
   ]
  },
  {
   "cell_type": "code",
   "execution_count": 17,
   "metadata": {},
   "outputs": [
    {
     "data": {
      "text/plain": [
       "<matplotlib.axes._subplots.AxesSubplot at 0x7f5241d0eef0>"
      ]
     },
     "execution_count": 17,
     "metadata": {},
     "output_type": "execute_result"
    },
    {
     "data": {
      "image/png": "[encoded data removed]",
      "text/plain": [
       "<matplotlib.figure.Figure at 0x7f5241d10f60>"
      ]
     },
     "metadata": {},
     "output_type": "display_data"
    }
   ],
   "source": [
    "d.opcion.value_counts().plot(kind='pie')"
   ]
  },
  {
   "cell_type": "markdown",
   "metadata": {
    "slideshow": {
     "slide_type": "slide"
    }
   },
   "source": [
    "# Expresiones regulares\n",
    "\n",
    "Encontrar **patrones** en un **texto. \n",
    "\n"
   ]
  },
  {
   "cell_type": "code",
   "execution_count": 18,
   "metadata": {
    "collapsed": true
   },
   "outputs": [],
   "source": [
    "import re"
   ]
  },
  {
   "cell_type": "code",
   "execution_count": 19,
   "metadata": {
    "collapsed": true,
    "slideshow": {
     "slide_type": "subslide"
    }
   },
   "outputs": [],
   "source": [
    "boletin = \"\"\"Compulsa Abreviada N°125 /2018. Expte 0014525/2018. Objeto: Compra\n",
    "de Lámparas y Rollos de filtro de Iluminación. Presentación de las ofertas:\n",
    "hasta el 21/05/2018–09:00 hs. Fecha y lugar de apertura: 21/05/2018–\n",
    "10:00 hs–Fac. de Artes–Pab. México S/N 1° Piso- Cdad Universitaria–Área\n",
    "Económica. Ret. de Pliegos: sin costo. Mail: comprasycontrataciones@\n",
    "artes.unc.edu.ar. Tel:0351-5353630 Int. 56217. Horario de 9 a 13.00 hs de\n",
    "lunes a viernes\n",
    "2 días - Nº 152339 - $ 998 - 11/05/2018 - BOE\n",
    "LICITACIONES\n",
    "AGENCIA CÓRDOBA DE INVERSION Y FINANCIAMIENTO\n",
    "SOCIEDAD DE ECONOMÍA MIXTA - MINISTERIO DE AGUA,\n",
    "AMBIENTE Y SERVICIOS PÚBLICOS\n",
    "Córdoba, 02 de mayo de 2018. Exp. N°: 0416-010556/2017. Asunto:\n",
    "“ACUEDUCTO PUNILLA SUR - DPTO. PUNILLA - CÓRDOBA”. NOTA\n",
    "ACLARATORIA N° 3. Por medio de la presente, la Secretaría de Recursos\n",
    "Hídricos, dependiente del Ministerio de Agua, Ambiente y Servicios\n",
    "Públicos, a los fines de lograr una mayor concurrencia de oferentes en\n",
    "la presente Licitación Pública, manifiesta:1. SE PRORROGA la presentación\n",
    "de ofertas tanto en formato papel como digital de la presente\n",
    "Licitación Pública, para el día 23 de Mayo de 2018, sin modificación\n",
    "de lugar ni horarios.  2. SE PRORROGA la apertura de ofertas de la\n",
    "presente Licitación Pública, para el día 24 de Mayo de 2018, el lugar\n",
    "será el Auditorio del Ministerio de Agua, Ambiente y Servicios Públicos,\n",
    "sito en Humberto Primo N° 607 (subsuelo), sin modificación de hora\n",
    "EXPTE. Nº 0425-351338/2018 COMPULSA ABREVIADA\n",
    "Para contratar la adquisición de Adquisición de Instrumental Quirúrgico\n",
    "con destino al Hospital de Mina Clavero, dependiente del Ministerio de\n",
    "Salud. PRESENTACIÓN Y APERTURA D\"\"\""
   ]
  },
  {
   "cell_type": "code",
   "execution_count": 20,
   "metadata": {
    "slideshow": {
     "slide_type": "subslide"
    }
   },
   "outputs": [
    {
     "data": {
      "text/plain": [
       "['0014525/2018', '0416-010556/2017', '0425-351338/2018']"
      ]
     },
     "execution_count": 20,
     "metadata": {},
     "output_type": "execute_result"
    }
   ],
   "source": [
    "re.findall(' ([\\d-]+/201\\d)', boletin)"
   ]
  },
  {
   "cell_type": "code",
   "execution_count": null,
   "metadata": {
    "collapsed": true
   },
   "outputs": [],
   "source": []
  }
 ],
 "metadata": {
  "celltoolbar": "Slideshow",
  "kernelspec": {
   "display_name": "Python 3",
   "language": "python",
   "name": "python3"
  },
  "language_info": {
   "codemirror_mode": {
    "name": "ipython",
    "version": 3
   },
   "file_extension": ".py",
   "mimetype": "text/x-python",
   "name": "python",
   "nbconvert_exporter": "python",
   "pygments_lexer": "ipython3",
   "version": "3.6.1"
  }
 },
 "nbformat": 4,
 "nbformat_minor": 2
}
